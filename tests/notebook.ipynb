{
 "cells": [
  {
   "cell_type": "code",
   "execution_count": null,
   "id": "c23f3d6d-3be8-4d34-a42b-713079b08479",
   "metadata": {},
   "outputs": [],
   "source": [
    "from mlflow_tasks import Task\n",
    "\n",
    "task = Task() # Fetches the active task\n",
    "params = task.get_params()\n",
    "print(params)\n",
    "result = params[\"test_param\"] * 2 # 16\n",
    "task.set_result(result)"
   ]
  }
 ],
 "metadata": {
  "kernelspec": {
   "display_name": "Python [conda env:mlflow_tasks_dev]",
   "language": "python",
   "name": "mlflow_tasks_dev"
  },
  "language_info": {
   "codemirror_mode": {
    "name": "ipython",
    "version": 3
   },
   "file_extension": ".py",
   "mimetype": "text/x-python",
   "name": "python",
   "nbconvert_exporter": "python",
   "pygments_lexer": "ipython3",
   "version": "3.7.11"
  }
 },
 "nbformat": 4,
 "nbformat_minor": 5
}
